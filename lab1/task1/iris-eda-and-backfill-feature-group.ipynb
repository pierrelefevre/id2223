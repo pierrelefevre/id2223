{
 "cells": [
  {
   "cell_type": "code",
   "execution_count": 18,
   "metadata": {},
   "outputs": [
    {
     "name": "stdout",
     "output_type": "stream",
     "text": [
      "Defaulting to user installation because normal site-packages is not writeable\n",
      "Requirement already satisfied: hopsworks in /home/pierrelf/.local/lib/python3.11/site-packages (from -r requirements.txt (line 3)) (3.4.3)\n",
      "Requirement already satisfied: joblib in /home/pierrelf/.local/lib/python3.11/site-packages (from -r requirements.txt (line 4)) (1.3.2)\n",
      "Requirement already satisfied: scikit-learn==1.2.2 in /home/pierrelf/.local/lib/python3.11/site-packages (from -r requirements.txt (line 5)) (1.2.2)\n",
      "Requirement already satisfied: seaborn in /home/pierrelf/.local/lib/python3.11/site-packages (from -r requirements.txt (line 6)) (0.13.0)\n",
      "Requirement already satisfied: dataframe-image in /home/pierrelf/.local/lib/python3.11/site-packages (from -r requirements.txt (line 7)) (0.2.2)\n",
      "Requirement already satisfied: modal in /home/pierrelf/.local/lib/python3.11/site-packages (from -r requirements.txt (line 8)) (0.55.4073)\n",
      "Requirement already satisfied: gradio==3.14 in /home/pierrelf/.local/lib/python3.11/site-packages (from -r requirements.txt (line 9)) (3.14.0)\n",
      "Requirement already satisfied: ipywidgets in /home/pierrelf/.local/lib/python3.11/site-packages (from -r requirements.txt (line 10)) (8.1.1)\n",
      "Requirement already satisfied: numpy>=1.17.3 in /home/pierrelf/.local/lib/python3.11/site-packages (from scikit-learn==1.2.2->-r requirements.txt (line 5)) (1.26.1)\n",
      "Requirement already satisfied: scipy>=1.3.2 in /home/pierrelf/.local/lib/python3.11/site-packages (from scikit-learn==1.2.2->-r requirements.txt (line 5)) (1.11.3)\n",
      "Requirement already satisfied: threadpoolctl>=2.0.0 in /home/pierrelf/.local/lib/python3.11/site-packages (from scikit-learn==1.2.2->-r requirements.txt (line 5)) (3.2.0)\n",
      "Requirement already satisfied: aiohttp in /home/pierrelf/.local/lib/python3.11/site-packages (from gradio==3.14->-r requirements.txt (line 9)) (3.8.6)\n",
      "Requirement already satisfied: altair in /home/pierrelf/.local/lib/python3.11/site-packages (from gradio==3.14->-r requirements.txt (line 9)) (4.2.2)\n",
      "Requirement already satisfied: fastapi in /home/pierrelf/.local/lib/python3.11/site-packages (from gradio==3.14->-r requirements.txt (line 9)) (0.104.1)\n",
      "Requirement already satisfied: ffmpy in /home/pierrelf/.local/lib/python3.11/site-packages (from gradio==3.14->-r requirements.txt (line 9)) (0.3.1)\n",
      "Requirement already satisfied: fsspec in /home/pierrelf/.local/lib/python3.11/site-packages (from gradio==3.14->-r requirements.txt (line 9)) (2023.10.0)\n",
      "Requirement already satisfied: httpx in /home/pierrelf/.local/lib/python3.11/site-packages (from gradio==3.14->-r requirements.txt (line 9)) (0.25.1)\n",
      "Requirement already satisfied: jinja2 in /home/pierrelf/.local/lib/python3.11/site-packages (from gradio==3.14->-r requirements.txt (line 9)) (3.0.3)\n",
      "Requirement already satisfied: markdown-it-py[linkify,plugins] in /home/pierrelf/.local/lib/python3.11/site-packages (from gradio==3.14->-r requirements.txt (line 9)) (3.0.0)\n",
      "Requirement already satisfied: markupsafe in /home/pierrelf/.local/lib/python3.11/site-packages (from gradio==3.14->-r requirements.txt (line 9)) (2.0.1)\n",
      "Requirement already satisfied: matplotlib in /home/pierrelf/.local/lib/python3.11/site-packages (from gradio==3.14->-r requirements.txt (line 9)) (3.8.1)\n",
      "Requirement already satisfied: orjson in /home/pierrelf/.local/lib/python3.11/site-packages (from gradio==3.14->-r requirements.txt (line 9)) (3.9.10)\n",
      "Requirement already satisfied: pandas in /home/pierrelf/.local/lib/python3.11/site-packages (from gradio==3.14->-r requirements.txt (line 9)) (2.0.3)\n",
      "Requirement already satisfied: pillow in /home/pierrelf/.local/lib/python3.11/site-packages (from gradio==3.14->-r requirements.txt (line 9)) (10.1.0)\n",
      "Requirement already satisfied: pycryptodome in /home/pierrelf/.local/lib/python3.11/site-packages (from gradio==3.14->-r requirements.txt (line 9)) (3.19.0)\n",
      "Requirement already satisfied: pydantic in /home/pierrelf/.local/lib/python3.11/site-packages (from gradio==3.14->-r requirements.txt (line 9)) (2.4.2)\n",
      "Requirement already satisfied: pydub in /home/pierrelf/.local/lib/python3.11/site-packages (from gradio==3.14->-r requirements.txt (line 9)) (0.25.1)\n",
      "Requirement already satisfied: python-multipart in /home/pierrelf/.local/lib/python3.11/site-packages (from gradio==3.14->-r requirements.txt (line 9)) (0.0.6)\n",
      "Requirement already satisfied: pyyaml in /home/pierrelf/.local/lib/python3.11/site-packages (from gradio==3.14->-r requirements.txt (line 9)) (6.0.1)\n",
      "Requirement already satisfied: requests in /home/pierrelf/.local/lib/python3.11/site-packages (from gradio==3.14->-r requirements.txt (line 9)) (2.31.0)\n",
      "Requirement already satisfied: uvicorn in /home/pierrelf/.local/lib/python3.11/site-packages (from gradio==3.14->-r requirements.txt (line 9)) (0.24.0.post1)\n",
      "Requirement already satisfied: websockets>=10.0 in /home/pierrelf/.local/lib/python3.11/site-packages (from gradio==3.14->-r requirements.txt (line 9)) (12.0)\n",
      "Requirement already satisfied: hsfs<3.5.0,>=3.4.0 in /home/pierrelf/.local/lib/python3.11/site-packages (from hsfs[python]<3.5.0,>=3.4.0->hopsworks->-r requirements.txt (line 3)) (3.4.4)\n",
      "Requirement already satisfied: hsml<3.5.0,>=3.4.0 in /home/pierrelf/.local/lib/python3.11/site-packages (from hopsworks->-r requirements.txt (line 3)) (3.4.3)\n",
      "Requirement already satisfied: pyhumps==1.6.1 in /home/pierrelf/.local/lib/python3.11/site-packages (from hopsworks->-r requirements.txt (line 3)) (1.6.1)\n",
      "Requirement already satisfied: furl in /home/pierrelf/.local/lib/python3.11/site-packages (from hopsworks->-r requirements.txt (line 3)) (2.1.3)\n",
      "Requirement already satisfied: boto3 in /home/pierrelf/.local/lib/python3.11/site-packages (from hopsworks->-r requirements.txt (line 3)) (1.28.82)\n",
      "Requirement already satisfied: pyjks in /home/pierrelf/.local/lib/python3.11/site-packages (from hopsworks->-r requirements.txt (line 3)) (20.0.0)\n",
      "Requirement already satisfied: mock in /home/pierrelf/.local/lib/python3.11/site-packages (from hopsworks->-r requirements.txt (line 3)) (5.1.0)\n",
      "Requirement already satisfied: tqdm in /home/pierrelf/.local/lib/python3.11/site-packages (from hopsworks->-r requirements.txt (line 3)) (4.66.1)\n",
      "Requirement already satisfied: nbconvert>=5 in /home/pierrelf/.local/lib/python3.11/site-packages (from dataframe-image->-r requirements.txt (line 7)) (7.11.0)\n",
      "Requirement already satisfied: packaging in /home/pierrelf/.local/lib/python3.11/site-packages (from dataframe-image->-r requirements.txt (line 7)) (23.2)\n",
      "Requirement already satisfied: mistune in /home/pierrelf/.local/lib/python3.11/site-packages (from dataframe-image->-r requirements.txt (line 7)) (3.0.2)\n",
      "Requirement already satisfied: lxml in /home/pierrelf/.local/lib/python3.11/site-packages (from dataframe-image->-r requirements.txt (line 7)) (4.9.3)\n",
      "Requirement already satisfied: beautifulsoup4 in /home/pierrelf/.local/lib/python3.11/site-packages (from dataframe-image->-r requirements.txt (line 7)) (4.12.2)\n",
      "Requirement already satisfied: cssutils in /home/pierrelf/.local/lib/python3.11/site-packages (from dataframe-image->-r requirements.txt (line 7)) (2.9.0)\n",
      "Requirement already satisfied: html2image in /home/pierrelf/.local/lib/python3.11/site-packages (from dataframe-image->-r requirements.txt (line 7)) (2.0.4.3)\n",
      "Requirement already satisfied: aiostream in /home/pierrelf/.local/lib/python3.11/site-packages (from modal->-r requirements.txt (line 8)) (0.5.2)\n",
      "Requirement already satisfied: asgiref in /home/pierrelf/.local/lib/python3.11/site-packages (from modal->-r requirements.txt (line 8)) (3.7.2)\n",
      "Requirement already satisfied: certifi in /home/pierrelf/.local/lib/python3.11/site-packages (from modal->-r requirements.txt (line 8)) (2023.7.22)\n",
      "Requirement already satisfied: click>=8.1.0 in /home/pierrelf/.local/lib/python3.11/site-packages (from modal->-r requirements.txt (line 8)) (8.1.7)\n",
      "Requirement already satisfied: grpclib==0.4.3 in /home/pierrelf/.local/lib/python3.11/site-packages (from modal->-r requirements.txt (line 8)) (0.4.3)\n",
      "Requirement already satisfied: importlib-metadata>=3.6.0 in /home/pierrelf/.local/lib/python3.11/site-packages (from modal->-r requirements.txt (line 8)) (6.8.0)\n",
      "Requirement already satisfied: protobuf!=4.24.0,<5.0,>=3.19 in /home/pierrelf/.local/lib/python3.11/site-packages (from modal->-r requirements.txt (line 8)) (4.25.0)\n",
      "Requirement already satisfied: rich>=12.0.0 in /home/pierrelf/.local/lib/python3.11/site-packages (from modal->-r requirements.txt (line 8)) (13.6.0)\n",
      "Requirement already satisfied: synchronicity~=0.5.3 in /home/pierrelf/.local/lib/python3.11/site-packages (from modal->-r requirements.txt (line 8)) (0.5.3)\n",
      "Requirement already satisfied: tblib>=1.7.0 in /home/pierrelf/.local/lib/python3.11/site-packages (from modal->-r requirements.txt (line 8)) (3.0.0)\n",
      "Requirement already satisfied: toml in /home/pierrelf/.local/lib/python3.11/site-packages (from modal->-r requirements.txt (line 8)) (0.10.2)\n",
      "Requirement already satisfied: typer~=0.9.0 in /home/pierrelf/.local/lib/python3.11/site-packages (from modal->-r requirements.txt (line 8)) (0.9.0)\n",
      "Requirement already satisfied: types-certifi in /home/pierrelf/.local/lib/python3.11/site-packages (from modal->-r requirements.txt (line 8)) (2021.10.8.3)\n",
      "Requirement already satisfied: types-toml in /home/pierrelf/.local/lib/python3.11/site-packages (from modal->-r requirements.txt (line 8)) (0.10.8.7)\n",
      "Requirement already satisfied: watchfiles in /home/pierrelf/.local/lib/python3.11/site-packages (from modal->-r requirements.txt (line 8)) (0.21.0)\n",
      "Requirement already satisfied: typing-extensions~=4.6 in /home/pierrelf/.local/lib/python3.11/site-packages (from modal->-r requirements.txt (line 8)) (4.8.0)\n",
      "Requirement already satisfied: cloudpickle<2.3.0,>=2.2.0 in /home/pierrelf/.local/lib/python3.11/site-packages (from modal->-r requirements.txt (line 8)) (2.2.1)\n",
      "Requirement already satisfied: h2<5,>=3.1.0 in /home/pierrelf/.local/lib/python3.11/site-packages (from grpclib==0.4.3->modal->-r requirements.txt (line 8)) (4.1.0)\n",
      "Requirement already satisfied: multidict in /home/pierrelf/.local/lib/python3.11/site-packages (from grpclib==0.4.3->modal->-r requirements.txt (line 8)) (6.0.4)\n",
      "Requirement already satisfied: comm>=0.1.3 in /home/pierrelf/.local/lib/python3.11/site-packages (from ipywidgets->-r requirements.txt (line 10)) (0.2.0)\n",
      "Requirement already satisfied: ipython>=6.1.0 in /home/pierrelf/.local/lib/python3.11/site-packages (from ipywidgets->-r requirements.txt (line 10)) (8.17.2)\n",
      "Requirement already satisfied: traitlets>=4.3.1 in /home/pierrelf/.local/lib/python3.11/site-packages (from ipywidgets->-r requirements.txt (line 10)) (5.13.0)\n",
      "Requirement already satisfied: widgetsnbextension~=4.0.9 in /home/pierrelf/.local/lib/python3.11/site-packages (from ipywidgets->-r requirements.txt (line 10)) (4.0.9)\n",
      "Requirement already satisfied: jupyterlab-widgets~=3.0.9 in /home/pierrelf/.local/lib/python3.11/site-packages (from ipywidgets->-r requirements.txt (line 10)) (3.0.9)\n",
      "Requirement already satisfied: avro==1.11.0 in /home/pierrelf/.local/lib/python3.11/site-packages (from hsfs<3.5.0,>=3.4.0->hsfs[python]<3.5.0,>=3.4.0->hopsworks->-r requirements.txt (line 3)) (1.11.0)\n",
      "Requirement already satisfied: sqlalchemy in /home/pierrelf/.local/lib/python3.11/site-packages (from hsfs<3.5.0,>=3.4.0->hsfs[python]<3.5.0,>=3.4.0->hopsworks->-r requirements.txt (line 3)) (2.0.23)\n",
      "Requirement already satisfied: PyMySQL[rsa] in /home/pierrelf/.local/lib/python3.11/site-packages (from hsfs<3.5.0,>=3.4.0->hsfs[python]<3.5.0,>=3.4.0->hopsworks->-r requirements.txt (line 3)) (1.1.0)\n",
      "Requirement already satisfied: great-expectations==0.14.13 in /home/pierrelf/.local/lib/python3.11/site-packages (from hsfs<3.5.0,>=3.4.0->hsfs[python]<3.5.0,>=3.4.0->hopsworks->-r requirements.txt (line 3)) (0.14.13)\n",
      "Requirement already satisfied: tzlocal in /home/pierrelf/.local/lib/python3.11/site-packages (from hsfs<3.5.0,>=3.4.0->hsfs[python]<3.5.0,>=3.4.0->hopsworks->-r requirements.txt (line 3)) (5.2)\n",
      "Requirement already satisfied: colorama>=0.4.3 in /home/pierrelf/.local/lib/python3.11/site-packages (from great-expectations==0.14.13->hsfs<3.5.0,>=3.4.0->hsfs[python]<3.5.0,>=3.4.0->hopsworks->-r requirements.txt (line 3)) (0.4.6)\n",
      "Requirement already satisfied: cryptography>=3.2 in /home/pierrelf/.local/lib/python3.11/site-packages (from great-expectations==0.14.13->hsfs<3.5.0,>=3.4.0->hsfs[python]<3.5.0,>=3.4.0->hopsworks->-r requirements.txt (line 3)) (41.0.5)\n",
      "Requirement already satisfied: dataclasses in /home/pierrelf/.local/lib/python3.11/site-packages (from great-expectations==0.14.13->hsfs<3.5.0,>=3.4.0->hsfs[python]<3.5.0,>=3.4.0->hopsworks->-r requirements.txt (line 3)) (0.6)\n",
      "Requirement already satisfied: jsonpatch>=1.22 in /home/pierrelf/.local/lib/python3.11/site-packages (from great-expectations==0.14.13->hsfs<3.5.0,>=3.4.0->hsfs[python]<3.5.0,>=3.4.0->hopsworks->-r requirements.txt (line 3)) (1.33)\n",
      "Requirement already satisfied: jsonschema>=2.5.1 in /home/pierrelf/.local/lib/python3.11/site-packages (from great-expectations==0.14.13->hsfs<3.5.0,>=3.4.0->hsfs[python]<3.5.0,>=3.4.0->hopsworks->-r requirements.txt (line 3)) (4.19.2)\n",
      "Requirement already satisfied: nbformat>=5.0 in /home/pierrelf/.local/lib/python3.11/site-packages (from great-expectations==0.14.13->hsfs<3.5.0,>=3.4.0->hsfs[python]<3.5.0,>=3.4.0->hopsworks->-r requirements.txt (line 3)) (5.9.2)\n",
      "Requirement already satisfied: pyparsing<3,>=2.4 in /home/pierrelf/.local/lib/python3.11/site-packages (from great-expectations==0.14.13->hsfs<3.5.0,>=3.4.0->hsfs[python]<3.5.0,>=3.4.0->hopsworks->-r requirements.txt (line 3)) (2.4.7)\n",
      "Requirement already satisfied: python-dateutil>=2.8.1 in /home/pierrelf/.local/lib/python3.11/site-packages (from great-expectations==0.14.13->hsfs<3.5.0,>=3.4.0->hsfs[python]<3.5.0,>=3.4.0->hopsworks->-r requirements.txt (line 3)) (2.8.2)\n",
      "Requirement already satisfied: pytz>=2021.3 in /home/pierrelf/.local/lib/python3.11/site-packages (from great-expectations==0.14.13->hsfs<3.5.0,>=3.4.0->hsfs[python]<3.5.0,>=3.4.0->hopsworks->-r requirements.txt (line 3)) (2023.3.post1)\n",
      "Requirement already satisfied: ruamel.yaml<0.17.18,>=0.16 in /home/pierrelf/.local/lib/python3.11/site-packages (from great-expectations==0.14.13->hsfs<3.5.0,>=3.4.0->hsfs[python]<3.5.0,>=3.4.0->hopsworks->-r requirements.txt (line 3)) (0.17.17)\n",
      "Requirement already satisfied: termcolor>=1.1.0 in /home/pierrelf/.local/lib/python3.11/site-packages (from great-expectations==0.14.13->hsfs<3.5.0,>=3.4.0->hsfs[python]<3.5.0,>=3.4.0->hopsworks->-r requirements.txt (line 3)) (2.3.0)\n",
      "Requirement already satisfied: urllib3<1.27,>=1.25.4 in /home/pierrelf/.local/lib/python3.11/site-packages (from great-expectations==0.14.13->hsfs<3.5.0,>=3.4.0->hsfs[python]<3.5.0,>=3.4.0->hopsworks->-r requirements.txt (line 3)) (1.26.18)\n",
      "Requirement already satisfied: entrypoints in /home/pierrelf/.local/lib/python3.11/site-packages (from altair->gradio==3.14->-r requirements.txt (line 9)) (0.4)\n",
      "Requirement already satisfied: toolz in /home/pierrelf/.local/lib/python3.11/site-packages (from altair->gradio==3.14->-r requirements.txt (line 9)) (0.12.0)\n",
      "Requirement already satisfied: pyhopshive[thrift] in /home/pierrelf/.local/lib/python3.11/site-packages (from hsfs[python]<3.5.0,>=3.4.0->hopsworks->-r requirements.txt (line 3)) (0.6.4.1.dev0)\n",
      "Requirement already satisfied: pyarrow>=10.0 in /home/pierrelf/.local/lib/python3.11/site-packages (from hsfs[python]<3.5.0,>=3.4.0->hopsworks->-r requirements.txt (line 3)) (14.0.1)\n",
      "Requirement already satisfied: confluent-kafka<=2.1.1 in /home/pierrelf/.local/lib/python3.11/site-packages (from hsfs[python]<3.5.0,>=3.4.0->hopsworks->-r requirements.txt (line 3)) (2.1.1)\n",
      "Requirement already satisfied: fastavro<=1.8.2,>=1.4.11 in /home/pierrelf/.local/lib/python3.11/site-packages (from hsfs[python]<3.5.0,>=3.4.0->hopsworks->-r requirements.txt (line 3)) (1.8.2)\n",
      "Requirement already satisfied: zipp>=0.5 in /home/pierrelf/.local/lib/python3.11/site-packages (from importlib-metadata>=3.6.0->modal->-r requirements.txt (line 8)) (3.17.0)\n",
      "Requirement already satisfied: decorator in /home/pierrelf/.local/lib/python3.11/site-packages (from ipython>=6.1.0->ipywidgets->-r requirements.txt (line 10)) (5.1.1)\n",
      "Requirement already satisfied: jedi>=0.16 in /home/pierrelf/.local/lib/python3.11/site-packages (from ipython>=6.1.0->ipywidgets->-r requirements.txt (line 10)) (0.19.1)\n",
      "Requirement already satisfied: matplotlib-inline in /home/pierrelf/.local/lib/python3.11/site-packages (from ipython>=6.1.0->ipywidgets->-r requirements.txt (line 10)) (0.1.6)\n",
      "Requirement already satisfied: prompt-toolkit!=3.0.37,<3.1.0,>=3.0.30 in /home/pierrelf/.local/lib/python3.11/site-packages (from ipython>=6.1.0->ipywidgets->-r requirements.txt (line 10)) (3.0.39)\n",
      "Requirement already satisfied: pygments>=2.4.0 in /home/pierrelf/.local/lib/python3.11/site-packages (from ipython>=6.1.0->ipywidgets->-r requirements.txt (line 10)) (2.16.1)\n",
      "Requirement already satisfied: stack-data in /home/pierrelf/.local/lib/python3.11/site-packages (from ipython>=6.1.0->ipywidgets->-r requirements.txt (line 10)) (0.6.3)\n",
      "Requirement already satisfied: pexpect>4.3 in /home/pierrelf/.local/lib/python3.11/site-packages (from ipython>=6.1.0->ipywidgets->-r requirements.txt (line 10)) (4.8.0)\n",
      "Requirement already satisfied: contourpy>=1.0.1 in /home/pierrelf/.local/lib/python3.11/site-packages (from matplotlib->gradio==3.14->-r requirements.txt (line 9)) (1.2.0)\n",
      "Requirement already satisfied: cycler>=0.10 in /home/pierrelf/.local/lib/python3.11/site-packages (from matplotlib->gradio==3.14->-r requirements.txt (line 9)) (0.12.1)\n",
      "Requirement already satisfied: fonttools>=4.22.0 in /home/pierrelf/.local/lib/python3.11/site-packages (from matplotlib->gradio==3.14->-r requirements.txt (line 9)) (4.44.0)\n",
      "Requirement already satisfied: kiwisolver>=1.3.1 in /home/pierrelf/.local/lib/python3.11/site-packages (from matplotlib->gradio==3.14->-r requirements.txt (line 9)) (1.4.5)\n",
      "Requirement already satisfied: bleach!=5.0.0 in /home/pierrelf/.local/lib/python3.11/site-packages (from nbconvert>=5->dataframe-image->-r requirements.txt (line 7)) (6.1.0)\n",
      "Requirement already satisfied: defusedxml in /home/pierrelf/.local/lib/python3.11/site-packages (from nbconvert>=5->dataframe-image->-r requirements.txt (line 7)) (0.7.1)\n",
      "Requirement already satisfied: jupyter-core>=4.7 in /home/pierrelf/.local/lib/python3.11/site-packages (from nbconvert>=5->dataframe-image->-r requirements.txt (line 7)) (5.5.0)\n",
      "Requirement already satisfied: jupyterlab-pygments in /home/pierrelf/.local/lib/python3.11/site-packages (from nbconvert>=5->dataframe-image->-r requirements.txt (line 7)) (0.2.2)\n",
      "Requirement already satisfied: nbclient>=0.5.0 in /home/pierrelf/.local/lib/python3.11/site-packages (from nbconvert>=5->dataframe-image->-r requirements.txt (line 7)) (0.9.0)\n",
      "Requirement already satisfied: pandocfilters>=1.4.1 in /home/pierrelf/.local/lib/python3.11/site-packages (from nbconvert>=5->dataframe-image->-r requirements.txt (line 7)) (1.5.0)\n",
      "Requirement already satisfied: tinycss2 in /home/pierrelf/.local/lib/python3.11/site-packages (from nbconvert>=5->dataframe-image->-r requirements.txt (line 7)) (1.2.1)\n",
      "Requirement already satisfied: tzdata>=2022.1 in /home/pierrelf/.local/lib/python3.11/site-packages (from pandas->gradio==3.14->-r requirements.txt (line 9)) (2023.3)\n",
      "Requirement already satisfied: charset-normalizer<4,>=2 in /home/pierrelf/.local/lib/python3.11/site-packages (from requests->gradio==3.14->-r requirements.txt (line 9)) (3.3.2)\n",
      "Requirement already satisfied: idna<4,>=2.5 in /home/pierrelf/.local/lib/python3.11/site-packages (from requests->gradio==3.14->-r requirements.txt (line 9)) (3.4)\n",
      "Requirement already satisfied: sigtools==4.0.1 in /home/pierrelf/.local/lib/python3.11/site-packages (from synchronicity~=0.5.3->modal->-r requirements.txt (line 8)) (4.0.1)\n",
      "Requirement already satisfied: attrs in /home/pierrelf/.local/lib/python3.11/site-packages (from sigtools==4.0.1->synchronicity~=0.5.3->modal->-r requirements.txt (line 8)) (23.1.0)\n",
      "Requirement already satisfied: async-timeout<5.0,>=4.0.0a3 in /home/pierrelf/.local/lib/python3.11/site-packages (from aiohttp->gradio==3.14->-r requirements.txt (line 9)) (4.0.3)\n",
      "Requirement already satisfied: yarl<2.0,>=1.0 in /home/pierrelf/.local/lib/python3.11/site-packages (from aiohttp->gradio==3.14->-r requirements.txt (line 9)) (1.9.2)\n",
      "Requirement already satisfied: frozenlist>=1.1.1 in /home/pierrelf/.local/lib/python3.11/site-packages (from aiohttp->gradio==3.14->-r requirements.txt (line 9)) (1.4.0)\n",
      "Requirement already satisfied: aiosignal>=1.1.2 in /home/pierrelf/.local/lib/python3.11/site-packages (from aiohttp->gradio==3.14->-r requirements.txt (line 9)) (1.3.1)\n",
      "Requirement already satisfied: soupsieve>1.2 in /home/pierrelf/.local/lib/python3.11/site-packages (from beautifulsoup4->dataframe-image->-r requirements.txt (line 7)) (2.5)\n",
      "Requirement already satisfied: botocore<1.32.0,>=1.31.82 in /home/pierrelf/.local/lib/python3.11/site-packages (from boto3->hopsworks->-r requirements.txt (line 3)) (1.31.82)\n",
      "Requirement already satisfied: jmespath<2.0.0,>=0.7.1 in /home/pierrelf/.local/lib/python3.11/site-packages (from boto3->hopsworks->-r requirements.txt (line 3)) (1.0.1)\n",
      "Requirement already satisfied: s3transfer<0.8.0,>=0.7.0 in /home/pierrelf/.local/lib/python3.11/site-packages (from boto3->hopsworks->-r requirements.txt (line 3)) (0.7.0)\n",
      "Requirement already satisfied: anyio<4.0.0,>=3.7.1 in /home/pierrelf/.local/lib/python3.11/site-packages (from fastapi->gradio==3.14->-r requirements.txt (line 9)) (3.7.1)\n",
      "Requirement already satisfied: starlette<0.28.0,>=0.27.0 in /home/pierrelf/.local/lib/python3.11/site-packages (from fastapi->gradio==3.14->-r requirements.txt (line 9)) (0.27.0)\n",
      "Requirement already satisfied: annotated-types>=0.4.0 in /home/pierrelf/.local/lib/python3.11/site-packages (from pydantic->gradio==3.14->-r requirements.txt (line 9)) (0.6.0)\n",
      "Requirement already satisfied: pydantic-core==2.10.1 in /home/pierrelf/.local/lib/python3.11/site-packages (from pydantic->gradio==3.14->-r requirements.txt (line 9)) (2.10.1)\n",
      "Requirement already satisfied: six>=1.8.0 in /home/pierrelf/.local/lib/python3.11/site-packages (from furl->hopsworks->-r requirements.txt (line 3)) (1.16.0)\n",
      "Requirement already satisfied: orderedmultidict>=1.0.1 in /home/pierrelf/.local/lib/python3.11/site-packages (from furl->hopsworks->-r requirements.txt (line 3)) (1.0.1)\n",
      "Requirement already satisfied: websocket-client<2.0.0,>=1.0.0 in /home/pierrelf/.local/lib/python3.11/site-packages (from html2image->dataframe-image->-r requirements.txt (line 7)) (1.6.4)\n",
      "Requirement already satisfied: httpcore in /home/pierrelf/.local/lib/python3.11/site-packages (from httpx->gradio==3.14->-r requirements.txt (line 9)) (1.0.1)\n",
      "Requirement already satisfied: sniffio in /home/pierrelf/.local/lib/python3.11/site-packages (from httpx->gradio==3.14->-r requirements.txt (line 9)) (1.3.0)\n",
      "Requirement already satisfied: mdurl~=0.1 in /home/pierrelf/.local/lib/python3.11/site-packages (from markdown-it-py[linkify,plugins]->gradio==3.14->-r requirements.txt (line 9)) (0.1.2)\n",
      "Requirement already satisfied: linkify-it-py<3,>=1 in /home/pierrelf/.local/lib/python3.11/site-packages (from markdown-it-py[linkify,plugins]->gradio==3.14->-r requirements.txt (line 9)) (2.0.2)\n",
      "Requirement already satisfied: mdit-py-plugins in /home/pierrelf/.local/lib/python3.11/site-packages (from markdown-it-py[linkify,plugins]->gradio==3.14->-r requirements.txt (line 9)) (0.4.0)\n",
      "Requirement already satisfied: javaobj-py3 in /home/pierrelf/.local/lib/python3.11/site-packages (from pyjks->hopsworks->-r requirements.txt (line 3)) (0.4.3)\n",
      "Requirement already satisfied: pyasn1>=0.3.5 in /home/pierrelf/.local/lib/python3.11/site-packages (from pyjks->hopsworks->-r requirements.txt (line 3)) (0.5.0)\n",
      "Requirement already satisfied: pyasn1-modules in /home/pierrelf/.local/lib/python3.11/site-packages (from pyjks->hopsworks->-r requirements.txt (line 3)) (0.3.0)\n",
      "Requirement already satisfied: pycryptodomex in /home/pierrelf/.local/lib/python3.11/site-packages (from pyjks->hopsworks->-r requirements.txt (line 3)) (3.19.0)\n",
      "Requirement already satisfied: twofish in /home/pierrelf/.local/lib/python3.11/site-packages (from pyjks->hopsworks->-r requirements.txt (line 3)) (0.3.0)\n",
      "Requirement already satisfied: h11>=0.8 in /home/pierrelf/.local/lib/python3.11/site-packages (from uvicorn->gradio==3.14->-r requirements.txt (line 9)) (0.14.0)\n",
      "Requirement already satisfied: webencodings in /home/pierrelf/.local/lib/python3.11/site-packages (from bleach!=5.0.0->nbconvert>=5->dataframe-image->-r requirements.txt (line 7)) (0.5.1)\n",
      "Requirement already satisfied: hyperframe<7,>=6.0 in /home/pierrelf/.local/lib/python3.11/site-packages (from h2<5,>=3.1.0->grpclib==0.4.3->modal->-r requirements.txt (line 8)) (6.0.1)\n",
      "Requirement already satisfied: hpack<5,>=4.0 in /home/pierrelf/.local/lib/python3.11/site-packages (from h2<5,>=3.1.0->grpclib==0.4.3->modal->-r requirements.txt (line 8)) (4.0.0)\n",
      "Requirement already satisfied: parso<0.9.0,>=0.8.3 in /home/pierrelf/.local/lib/python3.11/site-packages (from jedi>=0.16->ipython>=6.1.0->ipywidgets->-r requirements.txt (line 10)) (0.8.3)\n",
      "Requirement already satisfied: jsonschema-specifications>=2023.03.6 in /home/pierrelf/.local/lib/python3.11/site-packages (from jsonschema>=2.5.1->great-expectations==0.14.13->hsfs<3.5.0,>=3.4.0->hsfs[python]<3.5.0,>=3.4.0->hopsworks->-r requirements.txt (line 3)) (2023.7.1)\n",
      "Requirement already satisfied: referencing>=0.28.4 in /home/pierrelf/.local/lib/python3.11/site-packages (from jsonschema>=2.5.1->great-expectations==0.14.13->hsfs<3.5.0,>=3.4.0->hsfs[python]<3.5.0,>=3.4.0->hopsworks->-r requirements.txt (line 3)) (0.30.2)\n",
      "Requirement already satisfied: rpds-py>=0.7.1 in /home/pierrelf/.local/lib/python3.11/site-packages (from jsonschema>=2.5.1->great-expectations==0.14.13->hsfs<3.5.0,>=3.4.0->hsfs[python]<3.5.0,>=3.4.0->hopsworks->-r requirements.txt (line 3)) (0.12.0)\n",
      "Requirement already satisfied: platformdirs>=2.5 in /home/pierrelf/.local/lib/python3.11/site-packages (from jupyter-core>=4.7->nbconvert>=5->dataframe-image->-r requirements.txt (line 7)) (3.11.0)\n",
      "Requirement already satisfied: uc-micro-py in /home/pierrelf/.local/lib/python3.11/site-packages (from linkify-it-py<3,>=1->markdown-it-py[linkify,plugins]->gradio==3.14->-r requirements.txt (line 9)) (1.0.2)\n",
      "Requirement already satisfied: jupyter-client>=6.1.12 in /home/pierrelf/.local/lib/python3.11/site-packages (from nbclient>=0.5.0->nbconvert>=5->dataframe-image->-r requirements.txt (line 7)) (8.6.0)\n",
      "Requirement already satisfied: fastjsonschema in /home/pierrelf/.local/lib/python3.11/site-packages (from nbformat>=5.0->great-expectations==0.14.13->hsfs<3.5.0,>=3.4.0->hsfs[python]<3.5.0,>=3.4.0->hopsworks->-r requirements.txt (line 3)) (2.18.1)\n",
      "Requirement already satisfied: ptyprocess>=0.5 in /home/pierrelf/.local/lib/python3.11/site-packages (from pexpect>4.3->ipython>=6.1.0->ipywidgets->-r requirements.txt (line 10)) (0.7.0)\n",
      "Requirement already satisfied: wcwidth in /home/pierrelf/.local/lib/python3.11/site-packages (from prompt-toolkit!=3.0.37,<3.1.0,>=3.0.30->ipython>=6.1.0->ipywidgets->-r requirements.txt (line 10)) (0.2.9)\n",
      "Requirement already satisfied: future in /home/pierrelf/.local/lib/python3.11/site-packages (from pyhopshive[thrift]; extra == \"python\"->hsfs[python]<3.5.0,>=3.4.0->hopsworks->-r requirements.txt (line 3)) (0.18.3)\n",
      "Requirement already satisfied: thrift>=0.10.0 in /home/pierrelf/.local/lib/python3.11/site-packages (from pyhopshive[thrift]; extra == \"python\"->hsfs[python]<3.5.0,>=3.4.0->hopsworks->-r requirements.txt (line 3)) (0.16.0)\n",
      "Requirement already satisfied: greenlet!=0.4.17 in /home/pierrelf/.local/lib/python3.11/site-packages (from sqlalchemy->hsfs<3.5.0,>=3.4.0->hsfs[python]<3.5.0,>=3.4.0->hopsworks->-r requirements.txt (line 3)) (3.0.1)\n",
      "Requirement already satisfied: executing>=1.2.0 in /home/pierrelf/.local/lib/python3.11/site-packages (from stack-data->ipython>=6.1.0->ipywidgets->-r requirements.txt (line 10)) (2.0.1)\n",
      "Requirement already satisfied: asttokens>=2.1.0 in /home/pierrelf/.local/lib/python3.11/site-packages (from stack-data->ipython>=6.1.0->ipywidgets->-r requirements.txt (line 10)) (2.4.1)\n",
      "Requirement already satisfied: pure-eval in /home/pierrelf/.local/lib/python3.11/site-packages (from stack-data->ipython>=6.1.0->ipywidgets->-r requirements.txt (line 10)) (0.2.2)\n",
      "Requirement already satisfied: cffi>=1.12 in /home/pierrelf/.local/lib/python3.11/site-packages (from cryptography>=3.2->great-expectations==0.14.13->hsfs<3.5.0,>=3.4.0->hsfs[python]<3.5.0,>=3.4.0->hopsworks->-r requirements.txt (line 3)) (1.16.0)\n",
      "Requirement already satisfied: jsonpointer>=1.9 in /home/pierrelf/.local/lib/python3.11/site-packages (from jsonpatch>=1.22->great-expectations==0.14.13->hsfs<3.5.0,>=3.4.0->hsfs[python]<3.5.0,>=3.4.0->hopsworks->-r requirements.txt (line 3)) (2.4)\n",
      "Requirement already satisfied: pyzmq>=23.0 in /home/pierrelf/.local/lib/python3.11/site-packages (from jupyter-client>=6.1.12->nbclient>=0.5.0->nbconvert>=5->dataframe-image->-r requirements.txt (line 7)) (25.1.1)\n",
      "Requirement already satisfied: tornado>=6.2 in /home/pierrelf/.local/lib/python3.11/site-packages (from jupyter-client>=6.1.12->nbclient>=0.5.0->nbconvert>=5->dataframe-image->-r requirements.txt (line 7)) (6.3.3)\n",
      "Requirement already satisfied: pycparser in /home/pierrelf/.local/lib/python3.11/site-packages (from cffi>=1.12->cryptography>=3.2->great-expectations==0.14.13->hsfs<3.5.0,>=3.4.0->hsfs[python]<3.5.0,>=3.4.0->hopsworks->-r requirements.txt (line 3)) (2.21)\n",
      "Note: you may need to restart the kernel to use updated packages.\n"
     ]
    }
   ],
   "source": [
    "# Install dependencies\n",
    "%pip install -r requirements.txt"
   ]
  },
  {
   "cell_type": "code",
   "execution_count": 19,
   "id": "5e332935",
   "metadata": {},
   "outputs": [],
   "source": [
    "import seaborn as sns\n",
    "sns.set_palette('husl')\n",
    "import matplotlib.pyplot as plt\n",
    "%matplotlib inline"
   ]
  },
  {
   "cell_type": "code",
   "execution_count": 20,
   "id": "b720e1e6",
   "metadata": {},
   "outputs": [
    {
     "ename": "AttributeError",
     "evalue": "module 'great_expectations' has no attribute 'core'",
     "output_type": "error",
     "traceback": [
      "\u001b[0;31m---------------------------------------------------------------------------\u001b[0m",
      "\u001b[0;31mAttributeError\u001b[0m                            Traceback (most recent call last)",
      "\u001b[1;32m/home/pierrelf/scalable-ml/id2223/lab1/task1/iris-eda-and-backfill-feature-group.ipynb Cell 3\u001b[0m line \u001b[0;36m1\n\u001b[0;32m----> <a href='vscode-notebook-cell:/home/pierrelf/scalable-ml/id2223/lab1/task1/iris-eda-and-backfill-feature-group.ipynb#W1sZmlsZQ%3D%3D?line=0'>1</a>\u001b[0m \u001b[39mimport\u001b[39;00m \u001b[39mhopsworks\u001b[39;00m\n\u001b[1;32m      <a href='vscode-notebook-cell:/home/pierrelf/scalable-ml/id2223/lab1/task1/iris-eda-and-backfill-feature-group.ipynb#W1sZmlsZQ%3D%3D?line=1'>2</a>\u001b[0m \u001b[39mimport\u001b[39;00m \u001b[39mpandas\u001b[39;00m \u001b[39mas\u001b[39;00m \u001b[39mpd\u001b[39;00m\n",
      "File \u001b[0;32m~/.local/lib/python3.11/site-packages/hopsworks/__init__.py:33\u001b[0m\n\u001b[1;32m     30\u001b[0m warnings\u001b[39m.\u001b[39mfilterwarnings(action\u001b[39m=\u001b[39m\u001b[39m\"\u001b[39m\u001b[39mignore\u001b[39m\u001b[39m\"\u001b[39m, category\u001b[39m=\u001b[39m\u001b[39mUserWarning\u001b[39;00m, module\u001b[39m=\u001b[39m\u001b[39mr\u001b[39m\u001b[39m\"\u001b[39m\u001b[39m.*psycopg2\u001b[39m\u001b[39m\"\u001b[39m)\n\u001b[1;32m     32\u001b[0m \u001b[39mimport\u001b[39;00m \u001b[39mhsml\u001b[39;00m  \u001b[39m# noqa: F401, E402\u001b[39;00m\n\u001b[0;32m---> 33\u001b[0m \u001b[39mimport\u001b[39;00m \u001b[39mhsfs\u001b[39;00m  \u001b[39m# noqa: F401, E402\u001b[39;00m\n\u001b[1;32m     35\u001b[0m __version__ \u001b[39m=\u001b[39m version\u001b[39m.\u001b[39m__version__\n\u001b[1;32m     37\u001b[0m connection \u001b[39m=\u001b[39m Connection\u001b[39m.\u001b[39mconnection\n",
      "File \u001b[0;32m~/.local/lib/python3.11/site-packages/hsfs/__init__.py:20\u001b[0m\n\u001b[1;32m     17\u001b[0m \u001b[39mimport\u001b[39;00m \u001b[39mwarnings\u001b[39;00m\n\u001b[1;32m     19\u001b[0m \u001b[39mfrom\u001b[39;00m \u001b[39mhsfs\u001b[39;00m \u001b[39mimport\u001b[39;00m util, version\n\u001b[0;32m---> 20\u001b[0m \u001b[39mfrom\u001b[39;00m \u001b[39mhsfs\u001b[39;00m\u001b[39m.\u001b[39;00m\u001b[39mconnection\u001b[39;00m \u001b[39mimport\u001b[39;00m Connection\n\u001b[1;32m     22\u001b[0m __version__ \u001b[39m=\u001b[39m version\u001b[39m.\u001b[39m__version__\n\u001b[1;32m     24\u001b[0m connection \u001b[39m=\u001b[39m Connection\u001b[39m.\u001b[39mconnection\n",
      "File \u001b[0;32m~/.local/lib/python3.11/site-packages/hsfs/connection.py:23\u001b[0m\n\u001b[1;32m     20\u001b[0m \u001b[39mfrom\u001b[39;00m \u001b[39mrequests\u001b[39;00m\u001b[39m.\u001b[39;00m\u001b[39mexceptions\u001b[39;00m \u001b[39mimport\u001b[39;00m \u001b[39mConnectionError\u001b[39;00m\n\u001b[1;32m     22\u001b[0m \u001b[39mfrom\u001b[39;00m \u001b[39mhsfs\u001b[39;00m\u001b[39m.\u001b[39;00m\u001b[39mdecorators\u001b[39;00m \u001b[39mimport\u001b[39;00m connected, not_connected\n\u001b[0;32m---> 23\u001b[0m \u001b[39mfrom\u001b[39;00m \u001b[39mhsfs\u001b[39;00m \u001b[39mimport\u001b[39;00m engine, client, util\n\u001b[1;32m     24\u001b[0m \u001b[39mfrom\u001b[39;00m \u001b[39mhsfs\u001b[39;00m\u001b[39m.\u001b[39;00m\u001b[39mcore\u001b[39;00m \u001b[39mimport\u001b[39;00m feature_store_api, project_api, hosts_api, services_api\n\u001b[1;32m     26\u001b[0m AWS_DEFAULT_REGION \u001b[39m=\u001b[39m \u001b[39m\"\u001b[39m\u001b[39mdefault\u001b[39m\u001b[39m\"\u001b[39m\n",
      "File \u001b[0;32m~/.local/lib/python3.11/site-packages/hsfs/engine/__init__.py:17\u001b[0m\n\u001b[1;32m      1\u001b[0m \u001b[39m#\u001b[39;00m\n\u001b[1;32m      2\u001b[0m \u001b[39m#   Copyright 2020 Logical Clocks AB\u001b[39;00m\n\u001b[1;32m      3\u001b[0m \u001b[39m#\u001b[39;00m\n\u001b[0;32m   (...)\u001b[0m\n\u001b[1;32m     14\u001b[0m \u001b[39m#   limitations under the License.\u001b[39;00m\n\u001b[1;32m     15\u001b[0m \u001b[39m#\u001b[39;00m\n\u001b[0;32m---> 17\u001b[0m \u001b[39mfrom\u001b[39;00m \u001b[39mhsfs\u001b[39;00m\u001b[39m.\u001b[39;00m\u001b[39mengine\u001b[39;00m \u001b[39mimport\u001b[39;00m spark\n\u001b[1;32m     18\u001b[0m \u001b[39mfrom\u001b[39;00m \u001b[39mhsfs\u001b[39;00m\u001b[39m.\u001b[39;00m\u001b[39mclient\u001b[39;00m \u001b[39mimport\u001b[39;00m exceptions\n\u001b[1;32m     20\u001b[0m _engine \u001b[39m=\u001b[39m \u001b[39mNone\u001b[39;00m\n",
      "File \u001b[0;32m~/.local/lib/python3.11/site-packages/hsfs/engine/spark.py:77\u001b[0m\n\u001b[1;32m     74\u001b[0m \u001b[39mexcept\u001b[39;00m \u001b[39mImportError\u001b[39;00m:\n\u001b[1;32m     75\u001b[0m     \u001b[39mpass\u001b[39;00m\n\u001b[0;32m---> 77\u001b[0m \u001b[39mfrom\u001b[39;00m \u001b[39mhsfs\u001b[39;00m \u001b[39mimport\u001b[39;00m feature, training_dataset_feature, client, util\n\u001b[1;32m     78\u001b[0m \u001b[39mfrom\u001b[39;00m \u001b[39mhsfs\u001b[39;00m\u001b[39m.\u001b[39;00m\u001b[39mfeature_group\u001b[39;00m \u001b[39mimport\u001b[39;00m ExternalFeatureGroup, SpineGroup\n\u001b[1;32m     79\u001b[0m \u001b[39mfrom\u001b[39;00m \u001b[39mhsfs\u001b[39;00m\u001b[39m.\u001b[39;00m\u001b[39mstorage_connector\u001b[39;00m \u001b[39mimport\u001b[39;00m StorageConnector\n",
      "File \u001b[0;32m~/.local/lib/python3.11/site-packages/hsfs/training_dataset_feature.py:19\u001b[0m\n\u001b[1;32m      1\u001b[0m \u001b[39m#\u001b[39;00m\n\u001b[1;32m      2\u001b[0m \u001b[39m#   Copyright 2020 Logical Clocks AB\u001b[39;00m\n\u001b[1;32m      3\u001b[0m \u001b[39m#\u001b[39;00m\n\u001b[0;32m   (...)\u001b[0m\n\u001b[1;32m     14\u001b[0m \u001b[39m#   limitations under the License.\u001b[39;00m\n\u001b[1;32m     15\u001b[0m \u001b[39m#\u001b[39;00m\n\u001b[1;32m     17\u001b[0m \u001b[39mimport\u001b[39;00m \u001b[39mhumps\u001b[39;00m\n\u001b[0;32m---> 19\u001b[0m \u001b[39mimport\u001b[39;00m \u001b[39mhsfs\u001b[39;00m\u001b[39m.\u001b[39;00m\u001b[39mfeature_group\u001b[39;00m \u001b[39mas\u001b[39;00m \u001b[39mfeature_group\u001b[39;00m\n\u001b[1;32m     20\u001b[0m \u001b[39mfrom\u001b[39;00m \u001b[39mhsfs\u001b[39;00m\u001b[39m.\u001b[39;00m\u001b[39mfeature\u001b[39;00m \u001b[39mimport\u001b[39;00m Feature\n\u001b[1;32m     21\u001b[0m \u001b[39mfrom\u001b[39;00m \u001b[39mhsfs\u001b[39;00m\u001b[39m.\u001b[39;00m\u001b[39mtransformation_function\u001b[39;00m \u001b[39mimport\u001b[39;00m TransformationFunction\n",
      "File \u001b[0;32m~/.local/lib/python3.11/site-packages/hsfs/feature_group.py:18\u001b[0m\n\u001b[1;32m      1\u001b[0m \u001b[39m#\u001b[39;00m\n\u001b[1;32m      2\u001b[0m \u001b[39m#   Copyright 2020 Logical Clocks AB\u001b[39;00m\n\u001b[1;32m      3\u001b[0m \u001b[39m#\u001b[39;00m\n\u001b[0;32m   (...)\u001b[0m\n\u001b[1;32m     14\u001b[0m \u001b[39m#   limitations under the License.\u001b[39;00m\n\u001b[1;32m     15\u001b[0m \u001b[39m#\u001b[39;00m\n\u001b[1;32m     17\u001b[0m \u001b[39mimport\u001b[39;00m \u001b[39mcopy\u001b[39;00m\n\u001b[0;32m---> 18\u001b[0m \u001b[39mfrom\u001b[39;00m \u001b[39mhsfs\u001b[39;00m\u001b[39m.\u001b[39;00m\u001b[39mge_validation_result\u001b[39;00m \u001b[39mimport\u001b[39;00m ValidationResult\n\u001b[1;32m     19\u001b[0m \u001b[39mimport\u001b[39;00m \u001b[39mhumps\u001b[39;00m\n\u001b[1;32m     20\u001b[0m \u001b[39mimport\u001b[39;00m \u001b[39mjson\u001b[39;00m\n",
      "File \u001b[0;32m~/.local/lib/python3.11/site-packages/hsfs/ge_validation_result.py:28\u001b[0m\n\u001b[1;32m     23\u001b[0m \u001b[39mimport\u001b[39;00m \u001b[39mgreat_expectations\u001b[39;00m \u001b[39mas\u001b[39;00m \u001b[39mge\u001b[39;00m\n\u001b[1;32m     25\u001b[0m \u001b[39mfrom\u001b[39;00m \u001b[39mhsfs\u001b[39;00m \u001b[39mimport\u001b[39;00m util\n\u001b[0;32m---> 28\u001b[0m \u001b[39mclass\u001b[39;49;00m \u001b[39mValidationResult\u001b[39;49;00m:\n\u001b[1;32m     29\u001b[0m \u001b[39m    \u001b[39;49m\u001b[39m\"\"\"Metadata object representing a validation result generated by Great Expectations in the Feature Store.\"\"\"\u001b[39;49;00m\n\u001b[1;32m     31\u001b[0m     \u001b[39mdef\u001b[39;49;00m \u001b[39m__init__\u001b[39;49m(\n\u001b[1;32m     32\u001b[0m         \u001b[39mself\u001b[39;49m,\n\u001b[1;32m     33\u001b[0m         success: \u001b[39mbool\u001b[39;49m,\n\u001b[0;32m   (...)\u001b[0m\n\u001b[1;32m     48\u001b[0m         \u001b[39mtype\u001b[39;49m\u001b[39m=\u001b[39;49m\u001b[39mNone\u001b[39;49;00m,\n\u001b[1;32m     49\u001b[0m     ):\n",
      "File \u001b[0;32m~/.local/lib/python3.11/site-packages/hsfs/ge_validation_result.py:103\u001b[0m, in \u001b[0;36mValidationResult\u001b[0;34m()\u001b[0m\n\u001b[1;32m     93\u001b[0m \u001b[39mdef\u001b[39;00m \u001b[39mto_json_dict\u001b[39m(\u001b[39mself\u001b[39m) \u001b[39m-\u001b[39m\u001b[39m>\u001b[39m Dict[\u001b[39mstr\u001b[39m, Any]:\n\u001b[1;32m     94\u001b[0m     \u001b[39mreturn\u001b[39;00m {\n\u001b[1;32m     95\u001b[0m         \u001b[39m\"\u001b[39m\u001b[39mid\u001b[39m\u001b[39m\"\u001b[39m: \u001b[39mself\u001b[39m\u001b[39m.\u001b[39m_id,\n\u001b[1;32m     96\u001b[0m         \u001b[39m\"\u001b[39m\u001b[39msuccess\u001b[39m\u001b[39m\"\u001b[39m: \u001b[39mself\u001b[39m\u001b[39m.\u001b[39msuccess,\n\u001b[0;32m   (...)\u001b[0m\n\u001b[1;32m    100\u001b[0m         \u001b[39m\"\u001b[39m\u001b[39mmeta\u001b[39m\u001b[39m\"\u001b[39m: \u001b[39mself\u001b[39m\u001b[39m.\u001b[39m_meta,\n\u001b[1;32m    101\u001b[0m     }\n\u001b[0;32m--> 103\u001b[0m \u001b[39mdef\u001b[39;00m \u001b[39mto_ge_type\u001b[39m(\u001b[39mself\u001b[39m) \u001b[39m-\u001b[39m\u001b[39m>\u001b[39m ge\u001b[39m.\u001b[39;49mcore\u001b[39m.\u001b[39mExpectationValidationResult:\n\u001b[1;32m    104\u001b[0m     \u001b[39mreturn\u001b[39;00m ge\u001b[39m.\u001b[39mcore\u001b[39m.\u001b[39mExpectationValidationResult(\n\u001b[1;32m    105\u001b[0m         success\u001b[39m=\u001b[39m\u001b[39mself\u001b[39m\u001b[39m.\u001b[39msuccess,\n\u001b[1;32m    106\u001b[0m         exception_info\u001b[39m=\u001b[39m\u001b[39mself\u001b[39m\u001b[39m.\u001b[39mexception_info,\n\u001b[0;32m   (...)\u001b[0m\n\u001b[1;32m    109\u001b[0m         meta\u001b[39m=\u001b[39m\u001b[39mself\u001b[39m\u001b[39m.\u001b[39mmeta,\n\u001b[1;32m    110\u001b[0m     )\n\u001b[1;32m    112\u001b[0m \u001b[39m@property\u001b[39m\n\u001b[1;32m    113\u001b[0m \u001b[39mdef\u001b[39;00m \u001b[39mid\u001b[39m(\u001b[39mself\u001b[39m) \u001b[39m-\u001b[39m\u001b[39m>\u001b[39m Optional[\u001b[39mint\u001b[39m]:\n",
      "\u001b[0;31mAttributeError\u001b[0m: module 'great_expectations' has no attribute 'core'"
     ]
    }
   ],
   "source": [
    "import hopsworks\n",
    "import pandas as pd"
   ]
  },
  {
   "cell_type": "code",
   "execution_count": null,
   "id": "7f74f260",
   "metadata": {},
   "outputs": [
    {
     "ename": "",
     "evalue": "",
     "output_type": "error",
     "traceback": [
      "\u001b[1;31mThe kernel failed to start due to the missing module 'psutil'. Consider installing this module.\n",
      "\u001b[1;31mClick <a href='https://aka.ms/kernelFailuresMissingModule'>here</a> for more info."
     ]
    }
   ],
   "source": [
    "project = hopsworks.login()\n",
    "fs = project.get_feature_store()"
   ]
  },
  {
   "cell_type": "code",
   "execution_count": null,
   "id": "d6e407db",
   "metadata": {},
   "outputs": [
    {
     "ename": "",
     "evalue": "",
     "output_type": "error",
     "traceback": [
      "\u001b[1;31mThe kernel failed to start due to the missing module 'psutil'. Consider installing this module.\n",
      "\u001b[1;31mClick <a href='https://aka.ms/kernelFailuresMissingModule'>here</a> for more info."
     ]
    }
   ],
   "source": [
    "iris_df = pd.read_csv(\"https://repo.hops.works/master/hopsworks-tutorials/data/iris.csv\")\n",
    "iris_df"
   ]
  },
  {
   "cell_type": "code",
   "execution_count": null,
   "id": "67922f4f",
   "metadata": {},
   "outputs": [
    {
     "ename": "",
     "evalue": "",
     "output_type": "error",
     "traceback": [
      "\u001b[1;31mThe kernel failed to start due to the missing module 'psutil'. Consider installing this module.\n",
      "\u001b[1;31mClick <a href='https://aka.ms/kernelFailuresMissingModule'>here</a> for more info."
     ]
    }
   ],
   "source": [
    "iris_df.info()"
   ]
  },
  {
   "cell_type": "code",
   "execution_count": null,
   "id": "28d13684",
   "metadata": {},
   "outputs": [
    {
     "ename": "",
     "evalue": "",
     "output_type": "error",
     "traceback": [
      "\u001b[1;31mThe kernel failed to start due to the missing module 'psutil'. Consider installing this module.\n",
      "\u001b[1;31mClick <a href='https://aka.ms/kernelFailuresMissingModule'>here</a> for more info."
     ]
    }
   ],
   "source": [
    "iris_df.describe()"
   ]
  },
  {
   "cell_type": "code",
   "execution_count": null,
   "id": "d96706c5",
   "metadata": {},
   "outputs": [
    {
     "ename": "",
     "evalue": "",
     "output_type": "error",
     "traceback": [
      "\u001b[1;31mThe kernel failed to start due to the missing module 'psutil'. Consider installing this module.\n",
      "\u001b[1;31mClick <a href='https://aka.ms/kernelFailuresMissingModule'>here</a> for more info."
     ]
    }
   ],
   "source": [
    "iris_df['variety'].value_counts()"
   ]
  },
  {
   "cell_type": "markdown",
   "id": "a5fb8439",
   "metadata": {},
   "source": [
    "### Exploratory Data Analysis (EDA)  our Iris Data\n",
    "\n",
    "Let's look at our iris flower - the distribution and range of values for the 4 different features\n",
    " * sepal_length\n",
    " * sepal_width\n",
    " * petal_length\n",
    " * petal_width\n",
    " \n",
    " and the target variable is `variety`."
   ]
  },
  {
   "cell_type": "code",
   "execution_count": null,
   "id": "50e845fb",
   "metadata": {},
   "outputs": [
    {
     "ename": "",
     "evalue": "",
     "output_type": "error",
     "traceback": [
      "\u001b[1;31mThe kernel failed to start due to the missing module 'psutil'. Consider installing this module.\n",
      "\u001b[1;31mClick <a href='https://aka.ms/kernelFailuresMissingModule'>here</a> for more info."
     ]
    }
   ],
   "source": [
    "g = sns.pairplot(iris_df, hue='variety', markers='+')\n",
    "plt.show()"
   ]
  },
  {
   "cell_type": "markdown",
   "id": "7b0c499a",
   "metadata": {},
   "source": [
    "### Visualize range of values \n",
    "\n",
    "We want to design a simulator generate the 3 types of iris flower (setosa, versicolor, virginica).\n",
    "To do this, we can visualize the range of values for the length and width of the sepal and petal for each of the 3 flowers."
   ]
  },
  {
   "cell_type": "code",
   "execution_count": null,
   "id": "69981de1",
   "metadata": {},
   "outputs": [
    {
     "ename": "",
     "evalue": "",
     "output_type": "error",
     "traceback": [
      "\u001b[1;31mThe kernel failed to start due to the missing module 'psutil'. Consider installing this module.\n",
      "\u001b[1;31mClick <a href='https://aka.ms/kernelFailuresMissingModule'>here</a> for more info."
     ]
    }
   ],
   "source": [
    "g = sns.violinplot(y='variety', x='sepal_length', data=iris_df, inner='quartile')\n",
    "plt.show()\n",
    "g = sns.violinplot(y='variety', x='sepal_width', data=iris_df, inner='quartile')\n",
    "plt.show()\n",
    "g = sns.violinplot(y='variety', x='petal_length', data=iris_df, inner='quartile')\n",
    "plt.show()\n",
    "g = sns.violinplot(y='variety', x='petal_width', data=iris_df, inner='quartile')\n",
    "plt.show()"
   ]
  },
  {
   "cell_type": "markdown",
   "id": "6e6adb93",
   "metadata": {},
   "source": [
    "### Insert our Iris DataFrame into a FeatureGroup\n",
    "Let's write our historical iris feature values and labels to a feature group.\n",
    "When you write historical data, this process is called `backfilling`."
   ]
  },
  {
   "cell_type": "code",
   "execution_count": null,
   "id": "6df9d07f",
   "metadata": {},
   "outputs": [
    {
     "ename": "",
     "evalue": "",
     "output_type": "error",
     "traceback": [
      "\u001b[1;31mThe kernel failed to start due to the missing module 'psutil'. Consider installing this module.\n",
      "\u001b[1;31mClick <a href='https://aka.ms/kernelFailuresMissingModule'>here</a> for more info."
     ]
    }
   ],
   "source": [
    "iris_fg = fs.get_or_create_feature_group(\n",
    "    name=\"iris\",\n",
    "    version=1,\n",
    "    primary_key=[\"sepal_length\",\"sepal_width\",\"petal_length\",\"petal_width\"], \n",
    "    description=\"Iris flower dataset\")\n",
    "iris_fg.insert(iris_df)"
   ]
  },
  {
   "cell_type": "markdown",
   "id": "e0520ac0",
   "metadata": {},
   "source": [
    "### Data Validation\n",
    "If you want, you can enable data validation for your feature group.\n",
    "The code below will prevent iris flower data from being written your your feature group if you write values outside the expected ranges."
   ]
  },
  {
   "cell_type": "code",
   "execution_count": null,
   "id": "026c8802",
   "metadata": {},
   "outputs": [
    {
     "ename": "",
     "evalue": "",
     "output_type": "error",
     "traceback": [
      "\u001b[1;31mThe kernel failed to start due to the missing module 'psutil'. Consider installing this module.\n",
      "\u001b[1;31mClick <a href='https://aka.ms/kernelFailuresMissingModule'>here</a> for more info."
     ]
    }
   ],
   "source": [
    "from great_expectations.core import ExpectationSuite, ExpectationConfiguration\n",
    "\n",
    "def expect(suite, column, min_val, max_val):\n",
    "    suite.add_expectation(\n",
    "    ExpectationConfiguration(\n",
    "        expectation_type=\"expect_column_values_to_be_between\",\n",
    "        kwargs={\n",
    "            \"column\":column, \n",
    "            \"min_value\":min_val,\n",
    "            \"max_value\":max_val,\n",
    "        }\n",
    "    )\n",
    ")"
   ]
  },
  {
   "cell_type": "code",
   "execution_count": null,
   "id": "9e345afd",
   "metadata": {},
   "outputs": [
    {
     "ename": "",
     "evalue": "",
     "output_type": "error",
     "traceback": [
      "\u001b[1;31mThe kernel failed to start due to the missing module 'psutil'. Consider installing this module.\n",
      "\u001b[1;31mClick <a href='https://aka.ms/kernelFailuresMissingModule'>here</a> for more info."
     ]
    }
   ],
   "source": [
    "suite = ExpectationSuite(expectation_suite_name=\"iris_dimensions\")\n",
    "\n",
    "expect(suite, \"sepal_length\", 4.5, 8.0)\n",
    "expect(suite, \"sepal_width\", 2.1, 4.5)\n",
    "expect(suite, \"petal_length\", 1.2, 7)\n",
    "expect(suite, \"petal_width\", 0.2, 2.5)\n",
    "iris_fg.save_expectation_suite(expectation_suite=suite, validation_ingestion_policy=\"STRICT\")    "
   ]
  }
 ],
 "metadata": {
  "kernelspec": {
   "display_name": "Python 3 (ipykernel)",
   "language": "python",
   "name": "python3"
  },
  "language_info": {
   "codemirror_mode": {
    "name": "ipython",
    "version": 3
   },
   "file_extension": ".py",
   "mimetype": "text/x-python",
   "name": "python",
   "nbconvert_exporter": "python",
   "pygments_lexer": "ipython3",
   "version": "3.12.0"
  }
 },
 "nbformat": 4,
 "nbformat_minor": 5
}
